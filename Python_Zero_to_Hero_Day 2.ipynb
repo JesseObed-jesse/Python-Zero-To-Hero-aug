{
  "nbformat": 4,
  "nbformat_minor": 0,
  "metadata": {
    "colab": {
      "name": "Python Zero to Hero D1 .ipynb",
      "provenance": [],
      "include_colab_link": true
    },
    "kernelspec": {
      "name": "python3",
      "display_name": "Python 3"
    },
    "language_info": {
      "name": "python"
    }
  },
  "cells": [
    {
      "cell_type": "markdown",
      "metadata": {
        "id": "view-in-github",
        "colab_type": "text"
      },
      "source": [
        "<a href=\"https://colab.research.google.com/github/JesseObed-jesse/Python-Zero-To-Hero-aug/blob/main/Python_Zero_to_Hero_Day%202.ipynb\" target=\"_parent\"><img src=\"https://colab.research.google.com/assets/colab-badge.svg\" alt=\"Open In Colab\"/></a>"
      ]
    },
    {
      "cell_type": "code",
      "metadata": {
        "colab": {
          "base_uri": "https://localhost:8080/"
        },
        "id": "PXWkQZHlawVg",
        "outputId": "af770b84-1a2b-4afa-edfc-e20613014115"
      },
      "source": [
        "print('Hello Coders')"
      ],
      "execution_count": null,
      "outputs": [
        {
          "output_type": "stream",
          "text": [
            "Hello Coders\n"
          ],
          "name": "stdout"
        }
      ]
    },
    {
      "cell_type": "code",
      "metadata": {
        "colab": {
          "base_uri": "https://localhost:8080/"
        },
        "id": "_kKsTgM6cbdo",
        "outputId": "c82d701f-2633-4a8e-ddb0-ca3d7c596591"
      },
      "source": [
        "a = 20\n",
        "#Dynamially typed language\n",
        "\n",
        "print(a)\n",
        "print('a')"
      ],
      "execution_count": null,
      "outputs": [
        {
          "output_type": "stream",
          "text": [
            "20\n",
            "a\n"
          ],
          "name": "stdout"
        }
      ]
    },
    {
      "cell_type": "code",
      "metadata": {
        "colab": {
          "base_uri": "https://localhost:8080/"
        },
        "id": "_gr5sNyCdYWD",
        "outputId": "68ec4232-f5ad-48d6-f4c4-66f53d99c47f"
      },
      "source": [
        "#Dynamially typed language\n",
        "\n",
        "x = 30\n",
        "print(type(x))\n",
        "\n",
        "x = 10.50\n",
        "print(type(x))\n",
        "\n",
        "x = 'hello'\n",
        "print(type(x))"
      ],
      "execution_count": null,
      "outputs": [
        {
          "output_type": "stream",
          "text": [
            "<class 'int'>\n",
            "<class 'float'>\n",
            "<class 'str'>\n"
          ],
          "name": "stdout"
        }
      ]
    },
    {
      "cell_type": "code",
      "metadata": {
        "colab": {
          "base_uri": "https://localhost:8080/"
        },
        "id": "YyYlgDCZd6Jv",
        "outputId": "4190eb23-b340-4281-d421-286ada9a7e53"
      },
      "source": [
        "x = '$'\n",
        "y = \"$\"\n",
        "z = '''hello'''\n",
        "a = \"\"\"\"hello\"\"\"\n",
        "\n",
        "print(type(x))\n",
        "print(type(y))\n",
        "print(type(z))\n",
        "\n",
        "\n",
        "'''\n",
        "hello, this is \n",
        "multiline comment\n",
        "'''\n",
        "\n",
        "# This is single line comment"
      ],
      "execution_count": null,
      "outputs": [
        {
          "output_type": "stream",
          "text": [
            "<class 'str'>\n",
            "<class 'str'>\n",
            "<class 'str'>\n"
          ],
          "name": "stdout"
        }
      ]
    },
    {
      "cell_type": "code",
      "metadata": {
        "colab": {
          "base_uri": "https://localhost:8080/"
        },
        "id": "mPA_tgpNeyJJ",
        "outputId": "fe1543fe-7cb2-439b-e0db-1ee6e5ad4f26"
      },
      "source": [
        "# Aman's goggle is cool.\n",
        "\n",
        "print(\"Aman's goggle is cool\")"
      ],
      "execution_count": null,
      "outputs": [
        {
          "output_type": "stream",
          "text": [
            "Aman's goggle is cool\n"
          ],
          "name": "stdout"
        }
      ]
    },
    {
      "cell_type": "code",
      "metadata": {
        "colab": {
          "base_uri": "https://localhost:8080/"
        },
        "id": "uEXd4F13gn9i",
        "outputId": "762748fa-5d70-4fe8-a825-901676e5015e"
      },
      "source": [
        "a = 10\n",
        "b = 20\n",
        "print(id(a))\n",
        "print(id(b))"
      ],
      "execution_count": null,
      "outputs": [
        {
          "output_type": "stream",
          "text": [
            "93872492813088\n",
            "93872492813408\n"
          ],
          "name": "stdout"
        }
      ]
    },
    {
      "cell_type": "code",
      "metadata": {
        "colab": {
          "base_uri": "https://localhost:8080/"
        },
        "id": "jh9hDSCcha3u",
        "outputId": "02f104ee-5cea-463f-d566-9c18a418f8eb"
      },
      "source": [
        "a = b = c = 10\n",
        "print(a)\n",
        "print(b)\n",
        "print(c)"
      ],
      "execution_count": null,
      "outputs": [
        {
          "output_type": "stream",
          "text": [
            "10\n",
            "10\n",
            "10\n"
          ],
          "name": "stdout"
        }
      ]
    },
    {
      "cell_type": "code",
      "metadata": {
        "colab": {
          "base_uri": "https://localhost:8080/"
        },
        "id": "tUjj7frHhqAc",
        "outputId": "61a5a38c-f5ba-4ddf-94d8-ce5c14489c29"
      },
      "source": [
        "a = b = c = 10\n",
        "print(a, end = ' ')\n",
        "print(b,end = ' ')\n",
        "print(c)\n",
        "\n",
        "print(a, b, c)"
      ],
      "execution_count": null,
      "outputs": [
        {
          "output_type": "stream",
          "text": [
            "10 10 10\n",
            "10 10 10\n"
          ],
          "name": "stdout"
        }
      ]
    },
    {
      "cell_type": "code",
      "metadata": {
        "colab": {
          "base_uri": "https://localhost:8080/"
        },
        "id": "eWgu7D1MiNwA",
        "outputId": "142db483-7f83-48ec-edf0-fda8f6e8f10f"
      },
      "source": [
        "a, b, c = 10, 20, 30\n",
        "\n",
        "print(a, b, c)"
      ],
      "execution_count": null,
      "outputs": [
        {
          "output_type": "stream",
          "text": [
            "10 20 30\n"
          ],
          "name": "stdout"
        }
      ]
    },
    {
      "cell_type": "code",
      "metadata": {
        "colab": {
          "base_uri": "https://localhost:8080/"
        },
        "id": "AbfUjxmbjCjQ",
        "outputId": "324d055b-c325-4ece-c32f-da9bd3ade7bd"
      },
      "source": [
        "# Input\n",
        "# Addimg two values\n",
        "\n",
        "a = input('Enter first value: ')      # it takes string input\n",
        "b = input('Enter the second value: ') # it takes string input\n",
        "\n",
        "print(a + b)\n",
        "print('15' + '25')\n"
      ],
      "execution_count": null,
      "outputs": [
        {
          "output_type": "stream",
          "text": [
            "Enter first value: 15\n",
            "Enter the second value: 25\n",
            "1525\n"
          ],
          "name": "stdout"
        }
      ]
    },
    {
      "cell_type": "code",
      "metadata": {
        "colab": {
          "base_uri": "https://localhost:8080/"
        },
        "id": "nZCfQiuFjjIj",
        "outputId": "e0af6764-e335-4577-ba07-02f360f0366a"
      },
      "source": [
        "a = int(input('Enter first value: '))      # it takes string input\n",
        "b = int(input('Enter the second value: ')) # it takes string input\n",
        "\n",
        "\n",
        "print('Sum:', a + b)"
      ],
      "execution_count": null,
      "outputs": [
        {
          "output_type": "stream",
          "text": [
            "Enter first value: 15\n",
            "Enter the second value: 25\n",
            "Sum: 40\n"
          ],
          "name": "stdout"
        }
      ]
    },
    {
      "cell_type": "code",
      "metadata": {
        "colab": {
          "base_uri": "https://localhost:8080/"
        },
        "id": "59QO9GiSkbO8",
        "outputId": "d9c8ccf7-9a24-4e4c-fa99-bff4bce20b5c"
      },
      "source": [
        "a = int(input('Enter first value: '))      # it takes string input\n",
        "b = int(input('Enter the second value: ')) # it takes string input\n",
        "\n",
        "res = a + b\n",
        "\n",
        "print(f'Sum: {res}')"
      ],
      "execution_count": null,
      "outputs": [
        {
          "output_type": "stream",
          "text": [
            "Enter first value: 15\n",
            "Enter the second value: 25\n",
            "Sum: 40\n"
          ],
          "name": "stdout"
        }
      ]
    },
    {
      "cell_type": "code",
      "metadata": {
        "colab": {
          "base_uri": "https://localhost:8080/"
        },
        "id": "YHrR2aHIlFGF",
        "outputId": "93428dc8-f311-472a-cbfc-df8356f4372a"
      },
      "source": [
        "a = b = c = 10\n",
        "print(id(a), id(b), id(c))\n",
        "\n",
        "b = 20\n",
        "print(id(a), id(b), id(c))\n",
        "print(a, b, c)\n",
        "\n",
        "# 'int' is immutable"
      ],
      "execution_count": null,
      "outputs": [
        {
          "output_type": "stream",
          "text": [
            "93872492813088 93872492813088 93872492813088\n",
            "93872492813088 93872492813408 93872492813088\n",
            "10 20 10\n"
          ],
          "name": "stdout"
        }
      ]
    },
    {
      "cell_type": "code",
      "metadata": {
        "colab": {
          "base_uri": "https://localhost:8080/"
        },
        "id": "ytD_pX0Xl5Zy",
        "outputId": "2572d50c-7bea-4302-cd96-e74f73ddc7fd"
      },
      "source": [
        "# List\n",
        "\n",
        "li = [10, 20, 30, 40, 50]\n",
        "print(type(li))"
      ],
      "execution_count": null,
      "outputs": [
        {
          "output_type": "stream",
          "text": [
            "<class 'list'>\n"
          ],
          "name": "stdout"
        }
      ]
    },
    {
      "cell_type": "code",
      "metadata": {
        "colab": {
          "base_uri": "https://localhost:8080/"
        },
        "id": "twUPmGrZnsWD",
        "outputId": "33ed4bd9-6477-4377-e06d-6eb6c35b3cd2"
      },
      "source": [
        "li = [5, 10.5, 'hello', \"coders\", 12+5j]\n",
        "print(li)"
      ],
      "execution_count": null,
      "outputs": [
        {
          "output_type": "stream",
          "text": [
            "[5, 10.5, 'hello', 'coders', (12+5j)]\n"
          ],
          "name": "stdout"
        }
      ]
    },
    {
      "cell_type": "code",
      "metadata": {
        "colab": {
          "base_uri": "https://localhost:8080/"
        },
        "id": "W3h1kSWOoGiE",
        "outputId": "8c89611e-5181-47e0-ffbc-9dc10544bffb"
      },
      "source": [
        "print(li[0])\n",
        "print(li[1])"
      ],
      "execution_count": null,
      "outputs": [
        {
          "output_type": "stream",
          "text": [
            "5\n",
            "10.5\n"
          ],
          "name": "stdout"
        }
      ]
    },
    {
      "cell_type": "code",
      "metadata": {
        "colab": {
          "base_uri": "https://localhost:8080/"
        },
        "id": "Luc0Y6mIoM7E",
        "outputId": "d57afabd-91c6-42ad-d1ff-2e2b73bedb89"
      },
      "source": [
        "li = [5, 8, 2, 3, 4, 1]\n",
        "print(li)\n",
        "\n",
        "print(5 in li)\n",
        "print(10 in li)"
      ],
      "execution_count": null,
      "outputs": [
        {
          "output_type": "stream",
          "text": [
            "[5, 8, 2, 3, 4, 1]\n",
            "True\n",
            "False\n"
          ],
          "name": "stdout"
        }
      ]
    },
    {
      "cell_type": "code",
      "metadata": {
        "colab": {
          "base_uri": "https://localhost:8080/"
        },
        "id": "QgCS_6Kgoq6B",
        "outputId": "893f36a7-29f3-4622-ad87-476f79ae3e0a"
      },
      "source": [
        "li = [1, 2, 3]\n",
        "print(li * 4)"
      ],
      "execution_count": null,
      "outputs": [
        {
          "output_type": "stream",
          "text": [
            "[1, 2, 3, 1, 2, 3, 1, 2, 3, 1, 2, 3]\n"
          ],
          "name": "stdout"
        }
      ]
    },
    {
      "cell_type": "code",
      "metadata": {
        "colab": {
          "base_uri": "https://localhost:8080/"
        },
        "id": "VtcBZblapELH",
        "outputId": "26ba2e53-4f16-4205-e176-62e64dd1c627"
      },
      "source": [
        "li1 = [1, 2, 3]\n",
        "li2 = [4, 5, 6]\n",
        "\n",
        "print(li1 + li2)"
      ],
      "execution_count": null,
      "outputs": [
        {
          "output_type": "stream",
          "text": [
            "[1, 2, 3, 4, 5, 6]\n"
          ],
          "name": "stdout"
        }
      ]
    },
    {
      "cell_type": "code",
      "metadata": {
        "colab": {
          "base_uri": "https://localhost:8080/"
        },
        "id": "Uu6fiRv_pRUE",
        "outputId": "c184c4b7-7a3f-449b-a00a-05ec7fb13997"
      },
      "source": [
        "li = [5, 8, 2, 3, 4, 1]\n",
        "for i in li:\n",
        "  print(i)"
      ],
      "execution_count": null,
      "outputs": [
        {
          "output_type": "stream",
          "text": [
            "5\n",
            "8\n",
            "2\n",
            "3\n",
            "4\n",
            "1\n"
          ],
          "name": "stdout"
        }
      ]
    },
    {
      "cell_type": "code",
      "metadata": {
        "colab": {
          "base_uri": "https://localhost:8080/"
        },
        "id": "6AJcedEppe1f",
        "outputId": "50fbb9f5-818f-4110-e1a4-5d4c259361f3"
      },
      "source": [
        "# List is mutable\n",
        "\n",
        "li = [1, 2, 3, 4, 5]\n",
        "print(li)\n",
        "\n",
        "li[0] = 10\n",
        "print(li)"
      ],
      "execution_count": null,
      "outputs": [
        {
          "output_type": "stream",
          "text": [
            "[1, 2, 3, 4, 5]\n",
            "[10, 2, 3, 4, 5]\n"
          ],
          "name": "stdout"
        }
      ]
    },
    {
      "cell_type": "code",
      "metadata": {
        "colab": {
          "base_uri": "https://localhost:8080/",
          "height": 238
        },
        "id": "0l-d1NYMpyPD",
        "outputId": "5d6e5390-2f9f-401b-c0da-5b50cb10f020"
      },
      "source": [
        "s = 'welcome'\n",
        "print(s[0])\n",
        "s[0] = 'p'  # string is immutable\n",
        "print(s)"
      ],
      "execution_count": null,
      "outputs": [
        {
          "output_type": "stream",
          "text": [
            "w\n"
          ],
          "name": "stdout"
        },
        {
          "output_type": "error",
          "ename": "TypeError",
          "evalue": "ignored",
          "traceback": [
            "\u001b[0;31m---------------------------------------------------------------------------\u001b[0m",
            "\u001b[0;31mTypeError\u001b[0m                                 Traceback (most recent call last)",
            "\u001b[0;32m<ipython-input-46-f28f75177696>\u001b[0m in \u001b[0;36m<module>\u001b[0;34m()\u001b[0m\n\u001b[1;32m      1\u001b[0m \u001b[0ms\u001b[0m \u001b[0;34m=\u001b[0m \u001b[0;34m'welcome'\u001b[0m\u001b[0;34m\u001b[0m\u001b[0;34m\u001b[0m\u001b[0m\n\u001b[1;32m      2\u001b[0m \u001b[0mprint\u001b[0m\u001b[0;34m(\u001b[0m\u001b[0ms\u001b[0m\u001b[0;34m[\u001b[0m\u001b[0;36m0\u001b[0m\u001b[0;34m]\u001b[0m\u001b[0;34m)\u001b[0m\u001b[0;34m\u001b[0m\u001b[0;34m\u001b[0m\u001b[0m\n\u001b[0;32m----> 3\u001b[0;31m \u001b[0ms\u001b[0m\u001b[0;34m[\u001b[0m\u001b[0;36m0\u001b[0m\u001b[0;34m]\u001b[0m \u001b[0;34m=\u001b[0m \u001b[0;34m'p'\u001b[0m\u001b[0;34m\u001b[0m\u001b[0;34m\u001b[0m\u001b[0m\n\u001b[0m\u001b[1;32m      4\u001b[0m \u001b[0mprint\u001b[0m\u001b[0;34m(\u001b[0m\u001b[0ms\u001b[0m\u001b[0;34m)\u001b[0m\u001b[0;34m\u001b[0m\u001b[0;34m\u001b[0m\u001b[0m\n",
            "\u001b[0;31mTypeError\u001b[0m: 'str' object does not support item assignment"
          ]
        }
      ]
    },
    {
      "cell_type": "code",
      "metadata": {
        "id": "q4IaFbUGqAqK"
      },
      "source": [
        "# Assignment - Take two inputs and store in variable x and y, find x to the power y."
      ],
      "execution_count": null,
      "outputs": []
    },
    {
      "cell_type": "code",
      "metadata": {
        "colab": {
          "base_uri": "https://localhost:8080/"
        },
        "id": "yBzkK5_2AHnF",
        "outputId": "af50e213-1139-4acb-b393-5c896c06a43d"
      },
      "source": [
        "li = [3, 1, 7, 5, 2]\n",
        "li.sort()\n",
        "print(li)"
      ],
      "execution_count": null,
      "outputs": [
        {
          "output_type": "stream",
          "text": [
            "[1, 2, 3, 5, 7]\n"
          ],
          "name": "stdout"
        }
      ]
    },
    {
      "cell_type": "code",
      "metadata": {
        "colab": {
          "base_uri": "https://localhost:8080/"
        },
        "id": "CFQLiPZEAjO3",
        "outputId": "b95def4e-8ca8-4914-87df-9c357844a569"
      },
      "source": [
        "li = [3, 1, 7, 5, 2]\n",
        "print(sorted(li))\n",
        "print(li)"
      ],
      "execution_count": null,
      "outputs": [
        {
          "output_type": "stream",
          "text": [
            "[1, 2, 3, 5, 7]\n",
            "[3, 1, 7, 5, 2]\n"
          ],
          "name": "stdout"
        }
      ]
    },
    {
      "cell_type": "code",
      "metadata": {
        "colab": {
          "base_uri": "https://localhost:8080/"
        },
        "id": "2DrGY2o8A1JW",
        "outputId": "a81896b0-231f-44d5-84e0-cd792faa9702"
      },
      "source": [
        "li = [3, 1, 7, 5, 2]\n",
        "li.sort(reverse = True)\n",
        "print(li)"
      ],
      "execution_count": null,
      "outputs": [
        {
          "output_type": "stream",
          "text": [
            "[7, 5, 3, 2, 1]\n"
          ],
          "name": "stdout"
        }
      ]
    },
    {
      "cell_type": "code",
      "metadata": {
        "colab": {
          "base_uri": "https://localhost:8080/"
        },
        "id": "SK5VE0I0BdKR",
        "outputId": "caffe4ec-5de3-4ae1-dd28-1f21c46f7061"
      },
      "source": [
        "li = [3, 1, 7, 5, 2]\n",
        "print(sorted(li, reverse = True))\n",
        "print(li)"
      ],
      "execution_count": null,
      "outputs": [
        {
          "output_type": "stream",
          "text": [
            "[7, 5, 3, 2, 1]\n",
            "[3, 1, 7, 5, 2]\n"
          ],
          "name": "stdout"
        }
      ]
    },
    {
      "cell_type": "code",
      "metadata": {
        "colab": {
          "base_uri": "https://localhost:8080/"
        },
        "id": "kRsQC2_PBjZ-",
        "outputId": "87b8cebf-3bab-4cc9-e623-31565352cb1b"
      },
      "source": [
        "li = [3, 1, 7, 5, 2]\n",
        "li.reverse()\n",
        "print(li)"
      ],
      "execution_count": null,
      "outputs": [
        {
          "output_type": "stream",
          "text": [
            "[2, 5, 7, 1, 3]\n"
          ],
          "name": "stdout"
        }
      ]
    },
    {
      "cell_type": "code",
      "metadata": {
        "colab": {
          "base_uri": "https://localhost:8080/"
        },
        "id": "7kPcyRTzCH7p",
        "outputId": "7da32df2-c5c2-455c-cba4-267805f221fe"
      },
      "source": [
        "li = [3, 1, 7, 5, 2]\n",
        "print(li.index(7))"
      ],
      "execution_count": null,
      "outputs": [
        {
          "output_type": "stream",
          "text": [
            "2\n"
          ],
          "name": "stdout"
        }
      ]
    },
    {
      "cell_type": "code",
      "metadata": {
        "colab": {
          "base_uri": "https://localhost:8080/"
        },
        "id": "bkCbfgtACa7n",
        "outputId": "2ac36a9e-71df-4343-8c44-d4b3b20a06db"
      },
      "source": [
        "li = [3, 1, 7, 5, 2, 1, 5, 1, 7]\n",
        "print(li.index(5))"
      ],
      "execution_count": null,
      "outputs": [
        {
          "output_type": "stream",
          "text": [
            "3\n"
          ],
          "name": "stdout"
        }
      ]
    },
    {
      "cell_type": "code",
      "metadata": {
        "colab": {
          "base_uri": "https://localhost:8080/"
        },
        "id": "2fGFjbhWC_eL",
        "outputId": "dc8d61a0-8e3a-48ab-df42-a6a5856d6dcb"
      },
      "source": [
        "li = [3, 1, 7, 5, 2, 1, 5, 1, 7]\n",
        "print(li.count(1))"
      ],
      "execution_count": null,
      "outputs": [
        {
          "output_type": "stream",
          "text": [
            "3\n"
          ],
          "name": "stdout"
        }
      ]
    },
    {
      "cell_type": "code",
      "metadata": {
        "colab": {
          "base_uri": "https://localhost:8080/"
        },
        "id": "VdYkCnylDWgp",
        "outputId": "e2ea2726-5b71-48cb-e81b-daad945e9cef"
      },
      "source": [
        "st = 'welcome'\n",
        "li = list(st)\n",
        "print(li)\n",
        "li.reverse()\n",
        "print(li)\n",
        "st = str(li)\n",
        "print(st)"
      ],
      "execution_count": null,
      "outputs": [
        {
          "output_type": "stream",
          "text": [
            "['w', 'e', 'l', 'c', 'o', 'm', 'e']\n",
            "['e', 'm', 'o', 'c', 'l', 'e', 'w']\n",
            "['e', 'm', 'o', 'c', 'l', 'e', 'w']\n"
          ],
          "name": "stdout"
        }
      ]
    },
    {
      "cell_type": "code",
      "metadata": {
        "colab": {
          "base_uri": "https://localhost:8080/"
        },
        "id": "HYLu2ARMDtF8",
        "outputId": "3468518a-44f0-4d06-8cbf-be573f654ec5"
      },
      "source": [
        "print(li)\n",
        "st = ''.join(li)\n",
        "print(st)\n"
      ],
      "execution_count": null,
      "outputs": [
        {
          "output_type": "stream",
          "text": [
            "['e', 'm', 'o', 'c', 'l', 'e', 'w']\n",
            "emoclew\n"
          ],
          "name": "stdout"
        }
      ]
    },
    {
      "cell_type": "code",
      "metadata": {
        "colab": {
          "base_uri": "https://localhost:8080/"
        },
        "id": "byzcO94mEZ4-",
        "outputId": "c9d3f84f-1f1b-4500-f630-5e270e3013dd"
      },
      "source": [
        "l = ['h', 'e', 'l', 'l', 'o']\n",
        "s = '@$'.join(l)\n",
        "print(s)"
      ],
      "execution_count": null,
      "outputs": [
        {
          "output_type": "stream",
          "text": [
            "h@$e@$l@$l@$o\n"
          ],
          "name": "stdout"
        }
      ]
    },
    {
      "cell_type": "code",
      "metadata": {
        "colab": {
          "base_uri": "https://localhost:8080/"
        },
        "id": "0bpFslD8Fy52",
        "outputId": "b419eee8-55f5-443d-ffda-e0349dd62a12"
      },
      "source": [
        "st = \"welcome\"\n",
        "print(st[3])\n",
        "\n",
        "print(st[1 : 4]) #slicing - start index, end index - 1 \n",
        "print(st[0 : 4])\n",
        "print(st[ : 4])\n",
        "print(st[1 : ])\n",
        "print(st[ : ])\n",
        "print(st)"
      ],
      "execution_count": null,
      "outputs": [
        {
          "output_type": "stream",
          "text": [
            "c\n",
            "elc\n",
            "welc\n",
            "welc\n",
            "elcome\n",
            "welcome\n",
            "welcome\n"
          ],
          "name": "stdout"
        }
      ]
    },
    {
      "cell_type": "code",
      "metadata": {
        "colab": {
          "base_uri": "https://localhost:8080/"
        },
        "id": "mfRjLujgGzld",
        "outputId": "b1c1749d-8c57-47aa-ad4f-ac5b1dc72b63"
      },
      "source": [
        "print(st)\n",
        "print(st[-2])\n",
        "\n",
        "print(st[0 : 6])\n",
        "print(st[0 : 6 : 2]) #start, end, step\n",
        "print(st[ : : 2])\n",
        "\n",
        "print(st[ : : -1])\n",
        "print(st)"
      ],
      "execution_count": null,
      "outputs": [
        {
          "output_type": "stream",
          "text": [
            "welcome\n",
            "m\n",
            "welcom\n",
            "wlo\n",
            "wloe\n",
            "emoclew\n",
            "welcome\n"
          ],
          "name": "stdout"
        }
      ]
    },
    {
      "cell_type": "code",
      "metadata": {
        "colab": {
          "base_uri": "https://localhost:8080/"
        },
        "id": "3e8YuakEIOKF",
        "outputId": "a67f1c97-4b05-4b95-ddfd-ff2e0699ee41"
      },
      "source": [
        "li = [1, 2, 3, 4]\n",
        "print(li)\n",
        "\n",
        "li.append(5)\n",
        "print(li)\n",
        "\n",
        "li.pop()\n",
        "print(li)\n",
        "\n",
        "li.pop(2)\n",
        "print(li)\n",
        "\n",
        "li.remove(4)\n",
        "print(li)"
      ],
      "execution_count": null,
      "outputs": [
        {
          "output_type": "stream",
          "text": [
            "[1, 2, 3, 4]\n",
            "[1, 2, 3, 4, 5]\n",
            "[1, 2, 3, 4]\n",
            "[1, 2, 4]\n",
            "[1, 2]\n"
          ],
          "name": "stdout"
        }
      ]
    },
    {
      "cell_type": "code",
      "metadata": {
        "colab": {
          "base_uri": "https://localhost:8080/",
          "height": 185
        },
        "id": "d0s_DN2SJ_0d",
        "outputId": "a716ee2f-2ce2-4cd9-bfd4-60ff3f6ab5e5"
      },
      "source": [
        "del li\n",
        "print(li)"
      ],
      "execution_count": null,
      "outputs": [
        {
          "output_type": "error",
          "ename": "NameError",
          "evalue": "ignored",
          "traceback": [
            "\u001b[0;31m---------------------------------------------------------------------------\u001b[0m",
            "\u001b[0;31mNameError\u001b[0m                                 Traceback (most recent call last)",
            "\u001b[0;32m<ipython-input-51-44bac3474ed3>\u001b[0m in \u001b[0;36m<module>\u001b[0;34m()\u001b[0m\n\u001b[1;32m      1\u001b[0m \u001b[0;32mdel\u001b[0m \u001b[0mli\u001b[0m\u001b[0;34m\u001b[0m\u001b[0;34m\u001b[0m\u001b[0m\n\u001b[0;32m----> 2\u001b[0;31m \u001b[0mprint\u001b[0m\u001b[0;34m(\u001b[0m\u001b[0mli\u001b[0m\u001b[0;34m)\u001b[0m\u001b[0;34m\u001b[0m\u001b[0;34m\u001b[0m\u001b[0m\n\u001b[0m",
            "\u001b[0;31mNameError\u001b[0m: name 'li' is not defined"
          ]
        }
      ]
    },
    {
      "cell_type": "code",
      "metadata": {
        "colab": {
          "base_uri": "https://localhost:8080/"
        },
        "id": "DJMg5aa3K0U1",
        "outputId": "a0f71600-3529-4ecc-dcdc-92d1b70a7b0f"
      },
      "source": [
        "st = 'Welcome$to$Python$program'\n",
        "\n",
        "print(st.split('$'))\n",
        "print(st)"
      ],
      "execution_count": null,
      "outputs": [
        {
          "output_type": "stream",
          "text": [
            "['Welcome', 'to', 'Python', 'program']\n",
            "Welcome$to$Python$program\n"
          ],
          "name": "stdout"
        }
      ]
    },
    {
      "cell_type": "code",
      "metadata": {
        "colab": {
          "base_uri": "https://localhost:8080/"
        },
        "id": "i2sOh235LMMk",
        "outputId": "45eeb15b-61d0-4499-8f3c-730081dbda4f"
      },
      "source": [
        "x = input('Enter the values: ').split()\n",
        "li = []\n",
        "for i in x:\n",
        "  li.append(int(i))\n",
        "\n",
        "print(li)\n",
        "\n"
      ],
      "execution_count": null,
      "outputs": [
        {
          "output_type": "stream",
          "text": [
            "Enter the values: 10 20 30 40 50\n",
            "[10, 20, 30, 40, 50]\n"
          ],
          "name": "stdout"
        }
      ]
    },
    {
      "cell_type": "code",
      "metadata": {
        "colab": {
          "base_uri": "https://localhost:8080/"
        },
        "id": "jFvhxGpAMY8c",
        "outputId": "de619699-9f4b-4fd9-92d2-63091b62ec8b"
      },
      "source": [
        "x = [int(i) for i in input('Enter the values: ').split()]\n",
        "print(x)"
      ],
      "execution_count": null,
      "outputs": [
        {
          "output_type": "stream",
          "text": [
            "Enter the values: 10 20 30 40 50\n",
            "[10, 20, 30, 40, 50]\n"
          ],
          "name": "stdout"
        }
      ]
    },
    {
      "cell_type": "code",
      "metadata": {
        "colab": {
          "base_uri": "https://localhost:8080/"
        },
        "id": "osN-sdehNiR6",
        "outputId": "da19cf4e-d25a-4c51-dfaa-a7c8945a8d78"
      },
      "source": [
        "tup = (10, 20, 30, 40)\n",
        "print(tup)\n",
        "print(type(tup))"
      ],
      "execution_count": null,
      "outputs": [
        {
          "output_type": "stream",
          "text": [
            "(10, 20, 30, 40)\n",
            "<class 'tuple'>\n"
          ],
          "name": "stdout"
        }
      ]
    },
    {
      "cell_type": "code",
      "metadata": {
        "colab": {
          "base_uri": "https://localhost:8080/"
        },
        "id": "FK6tAsvqOIyb",
        "outputId": "b30ff9a4-2f8f-4ab1-d8e1-bceda46975be"
      },
      "source": [
        "tup = 10, 20, 30, 40, 50\n",
        "print(type(tup))"
      ],
      "execution_count": null,
      "outputs": [
        {
          "output_type": "stream",
          "text": [
            "<class 'tuple'>\n"
          ],
          "name": "stdout"
        }
      ]
    },
    {
      "cell_type": "code",
      "metadata": {
        "colab": {
          "base_uri": "https://localhost:8080/"
        },
        "id": "CSnLHg0ZORWs",
        "outputId": "60cd4779-bc41-4430-cb7a-fbda81519c8f"
      },
      "source": [
        "print(tup[2])"
      ],
      "execution_count": null,
      "outputs": [
        {
          "output_type": "stream",
          "text": [
            "30\n"
          ],
          "name": "stdout"
        }
      ]
    },
    {
      "cell_type": "code",
      "metadata": {
        "colab": {
          "base_uri": "https://localhost:8080/",
          "height": 185
        },
        "id": "76TN7qAzOW3a",
        "outputId": "182b904e-e02d-4f70-b015-fdd3919b43b3"
      },
      "source": [
        "tup[0] = 100\n",
        "print(tup)"
      ],
      "execution_count": null,
      "outputs": [
        {
          "output_type": "error",
          "ename": "TypeError",
          "evalue": "ignored",
          "traceback": [
            "\u001b[0;31m---------------------------------------------------------------------------\u001b[0m",
            "\u001b[0;31mTypeError\u001b[0m                                 Traceback (most recent call last)",
            "\u001b[0;32m<ipython-input-65-fccece33e497>\u001b[0m in \u001b[0;36m<module>\u001b[0;34m()\u001b[0m\n\u001b[0;32m----> 1\u001b[0;31m \u001b[0mtup\u001b[0m\u001b[0;34m[\u001b[0m\u001b[0;36m0\u001b[0m\u001b[0;34m]\u001b[0m \u001b[0;34m=\u001b[0m \u001b[0;36m100\u001b[0m\u001b[0;34m\u001b[0m\u001b[0;34m\u001b[0m\u001b[0m\n\u001b[0m\u001b[1;32m      2\u001b[0m \u001b[0mprint\u001b[0m\u001b[0;34m(\u001b[0m\u001b[0mtup\u001b[0m\u001b[0;34m)\u001b[0m\u001b[0;34m\u001b[0m\u001b[0;34m\u001b[0m\u001b[0m\n",
            "\u001b[0;31mTypeError\u001b[0m: 'tuple' object does not support item assignment"
          ]
        }
      ]
    },
    {
      "cell_type": "code",
      "metadata": {
        "colab": {
          "base_uri": "https://localhost:8080/"
        },
        "id": "zjGs9xIqOe-6",
        "outputId": "5bb561c1-e778-46f8-b042-859c743aec4a"
      },
      "source": [
        "tup = (2, 5, 1, 3, 5, 4,2)\n",
        "print(tup.count(2))\n",
        "print(tup.index(3))"
      ],
      "execution_count": null,
      "outputs": [
        {
          "output_type": "stream",
          "text": [
            "2\n",
            "3\n"
          ],
          "name": "stdout"
        }
      ]
    },
    {
      "cell_type": "code",
      "metadata": {
        "colab": {
          "base_uri": "https://localhost:8080/"
        },
        "id": "FTRe_D8XPBEm",
        "outputId": "de142c0a-175f-41a2-c8bb-5bba0dda7259"
      },
      "source": [
        "print(len(tup))"
      ],
      "execution_count": null,
      "outputs": [
        {
          "output_type": "stream",
          "text": [
            "7\n"
          ],
          "name": "stdout"
        }
      ]
    },
    {
      "cell_type": "code",
      "metadata": {
        "colab": {
          "base_uri": "https://localhost:8080/"
        },
        "id": "QSQa_GAtPO-U",
        "outputId": "a6bdd47a-b1f6-482b-ee0a-3d555de8cbf1"
      },
      "source": [
        "s = {10, 20, 30, 40, 50, 10, 30}\n",
        "print(s)\n",
        "print(type(s))"
      ],
      "execution_count": null,
      "outputs": [
        {
          "output_type": "stream",
          "text": [
            "{40, 10, 50, 20, 30}\n",
            "<class 'set'>\n"
          ],
          "name": "stdout"
        }
      ]
    },
    {
      "cell_type": "code",
      "metadata": {
        "colab": {
          "base_uri": "https://localhost:8080/"
        },
        "id": "ZPA2B-a9Pkk_",
        "outputId": "10cc2f31-50f5-46ec-c106-9e8708e95dbe"
      },
      "source": [
        "tup = (25,)\n",
        "print(type(tup))"
      ],
      "execution_count": null,
      "outputs": [
        {
          "output_type": "stream",
          "text": [
            "<class 'tuple'>\n"
          ],
          "name": "stdout"
        }
      ]
    },
    {
      "cell_type": "code",
      "metadata": {
        "colab": {
          "base_uri": "https://localhost:8080/"
        },
        "id": "nlry9dD0QQTb",
        "outputId": "26046023-b9f5-4a9f-dad1-8e667af35a94"
      },
      "source": [
        "s1 = {1, 2, 3, 4, 5}\n",
        "s2 = {4, 5, 6, 7}\n",
        "\n",
        "print(s1 | s2)\n",
        "print(s1 & s2)\n",
        "print(s1 - s2)"
      ],
      "execution_count": null,
      "outputs": [
        {
          "output_type": "stream",
          "text": [
            "{1, 2, 3, 4, 5, 6, 7}\n",
            "{4, 5}\n",
            "{1, 2, 3}\n"
          ],
          "name": "stdout"
        }
      ]
    },
    {
      "cell_type": "code",
      "metadata": {
        "colab": {
          "base_uri": "https://localhost:8080/"
        },
        "id": "Bbbx_96EQqhw",
        "outputId": "112b8df2-ac4b-418b-ae0d-158bb3e4047a"
      },
      "source": [
        "s1 = {1, 2, 3}\n",
        "s2 = {1, 2, 3, 5, 6}\n",
        "\n",
        "print(s1 < s2)\n",
        "print(s2 > s1)\n",
        "print(s2 < s1)"
      ],
      "execution_count": null,
      "outputs": [
        {
          "output_type": "stream",
          "text": [
            "True\n",
            "True\n",
            "False\n"
          ],
          "name": "stdout"
        }
      ]
    },
    {
      "cell_type": "code",
      "metadata": {
        "colab": {
          "base_uri": "https://localhost:8080/"
        },
        "id": "cC7pVmd0RRHw",
        "outputId": "3927d000-c196-49a7-b449-538a9363e379"
      },
      "source": [
        "# Take a string input and check whether it is a Pangram\n",
        "# A quick brown fox jumps over the lazy dog\n",
        "\n",
        "import string\n",
        "s = set(input('Enter the string: '))\n",
        "alpha = set(string.ascii_lowercase)\n",
        "print(s)\n",
        "print(alpha)\n",
        "\n",
        "if alpha < s:\n",
        "  print('Pangram')\n",
        "else:\n",
        "  print('Not Pangram')"
      ],
      "execution_count": null,
      "outputs": [
        {
          "output_type": "stream",
          "text": [
            "Enter the string: A quick brown fox jumps over the lazy dog\n",
            "{'A', 'm', 'p', 'z', 'e', 'x', 't', 'a', 'l', 'd', 'b', 'j', 's', 'n', 'v', 'o', 'h', 'u', 'g', 'f', 'i', ' ', 'w', 'y', 'k', 'q', 'c', 'r'}\n",
            "{'m', 'p', 'z', 'e', 'x', 't', 'a', 'l', 'd', 'b', 'j', 's', 'n', 'v', 'h', 'o', 'u', 'g', 'f', 'i', 'w', 'y', 'k', 'q', 'c', 'r'}\n",
            "Pangram\n"
          ],
          "name": "stdout"
        }
      ]
    },
    {
      "cell_type": "code",
      "metadata": {
        "id": "FDU6LbYSR2xX"
      },
      "source": [
        " # Day 2 \n",
        "\n",
        "\n",
        "\n",
        "\n",
        "\n",
        "test_str = input(\"Enter a string\")\n",
        "\n",
        "all_freq = {}\n",
        "\n",
        "for i in test_str:\n",
        "\tif i in all_freq:\n",
        "\t\tall_freq[i] += 1\n",
        "\telse:\n",
        "\t\tall_freq[i] = 1\n",
        "\n",
        "print (f\"Count of all characters in {test_str} is :\\n \"\n",
        "\t\t\t\t\t\t\t\t\t\t+ str(all_freq))\n"
      ],
      "execution_count": null,
      "outputs": []
    }
  ]
}